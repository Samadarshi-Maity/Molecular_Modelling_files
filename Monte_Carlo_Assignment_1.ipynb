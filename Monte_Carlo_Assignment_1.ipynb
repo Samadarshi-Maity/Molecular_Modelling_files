{
 "cells": [
  {
   "cell_type": "markdown",
   "metadata": {},
   "source": [
    "# Monte Carlo Assignment"
   ]
  },
  {
   "cell_type": "code",
   "execution_count": 5,
   "metadata": {},
   "outputs": [],
   "source": [
    "import scipy as s\n",
    "import numpy as np\n",
    "import matplotlib.pyplot as plt\n",
    "import time\n",
    "import numba\n",
    "from numba import jit"
   ]
  },
  {
   "cell_type": "markdown",
   "metadata": {},
   "source": [
    "### Assignment Part 1: Development of the Monte Carlo Code\n",
    "\n"
   ]
  },
  {
   "cell_type": "code",
   "execution_count": 6,
   "metadata": {},
   "outputs": [],
   "source": [
    "# Define all the necessary functions\n",
    "@jit(nopython = True)\n",
    "def LJ_real(sigma, epsi, r):\n",
    "    Energy = 4*epsi*((sigma/r)**12-(sigma/r)**6);\n",
    "    return Energy;\n",
    "@jit(nopython = True)\n",
    "def Mixing (sigma_1,sigma_2,epsi_1,epsi_2):\n",
    "    sigma_final = (sigma_1+sigma_2)/2;\n",
    "    epsi_final  = (epsi_1*epsi_2)**0.5;\n",
    "    return sigma_final, epsi_final;\n",
    "\n",
    "@jit(nopython = True)\n",
    "def PBC (x2,y2,z2,x1 ,y1 ,z1 , Lx, Ly, Lz):  \n",
    "    x = (x2 - x1) - Lx*np.round((x2 - x1)/Lx);   # for dx = dx - nearest_int(dx/L)\n",
    "    y = (y2 - y1) - Ly*np.round((x2 - x1)/Ly);\n",
    "    z = (z2 - z1) - Lz*np.round((x2 - x1)/Lz); \n",
    "    \n",
    "    coordinate = np.array([x,y,z]);\n",
    "    return coordinate; \n",
    "\n",
    "@jit(nopython = True)\n",
    "def Distance (A):\n",
    "        sum = 0;\n",
    "        for i in range(0,3):\n",
    "            sum = sum + (A[i])**2;\n",
    "        return s.sqrt(sum);\n",
    "    \n",
    "# Defining function to calculate the d(U)/dr\n",
    "\n",
    "@jit(nopython = True)\n",
    "def Dudr (sigma, epsi, r):\n",
    "    Energy = -24*(epsi)*(2*(sigma/r)**12-(sigma/r)**6); # Calculation of the force // calculates fi*ri \n",
    "    return Energy;    \n",
    "\n",
    "# Random Number Generator.\n",
    "\n",
    "@jit(nopython = True)\n",
    "def ran_num_gen(A):\n",
    "    a = np.random.rand(A);\n",
    "    a = 2*a-1;  # this is done to bring the range of Random number between -1 to 1\n",
    "    return a;\n",
    "\n",
    "@jit(nopython = True)\n",
    "def U_tail_Corr(sigma,epsi,Rcut):\n",
    "    U = 8/3*s.pi*epsi*(1/3*(sigma/Rcut)**9 - (sigma/Rcut)**3);       # Rho* sigma^3 has been taken approx =1\n",
    "    return U;\n",
    "\n",
    "@jit(nopython = True)    \n",
    "def P_tail_Corr(sigma,epsi,Rcut):                                               # Rho* sigma^3 has been taken approx =1\n",
    "    P = 16/3*s.pi*epsi*(2/3*(sigma/Rcut)**9 - (sigma/Rcut)**3);                 # Tail Correction for Du/\n",
    "    return P;\n",
    "\n",
    "# to define the writing file remember to tranpose my array before using this function.\n",
    "def write_xyz_traj(r, Npart, file_name):\n",
    "\t'''\n",
    "\t\tThis function appends a frame to the end of a xyz file. \n",
    "\t\t\n",
    "\t\t: r : \t\t\tposition of the particles in the form of [[x1,y1,z1],[x2,y2,z2] ... [xN,yN,zN]]\n",
    "\t\t: Npart :\t\tnumber of particles (int)\n",
    "\t\t: filename :\tname of the trajectory file where the frame gets appended (str)\n",
    "\n",
    "\t'''\n",
    "\toutput_box0 = open(file_name + '.xyz', 'a')\n",
    "\toutput_box0.write('%0.0i\\n\\n' % Npart)\n",
    "\t[output_box0.write('%s\\t%0.5f\\t%0.5f\\t%0.5f\\n' % (\"C\", r[i, 0], r[i, 1], r[i, 2])) for i in range(0, Npart)]\n",
    "\toutput_box0.close()\n",
    " \n",
    "def read_xyz_trj(file_name):\n",
    "\n",
    "    xyz_file = open(file_name, 'r')\n",
    "\n",
    "    frame = 0\n",
    "    xyz = {}\n",
    "    READING=True\n",
    "    while READING:\n",
    "        try:\n",
    "            nparts = int(xyz_file.readline())\n",
    "            xyz_file.readline()\n",
    "            xyz[frame] = np.zeros([nparts, 3])\n",
    "            for k in range(0, nparts):\n",
    "                line = xyz_file.readline()\n",
    "                line = line.split()\n",
    "                xyz[frame][k, 0] = line[1]\n",
    "                xyz[frame][k, 1] = line[2]\n",
    "                xyz[frame][k, 2] = line[3]\n",
    "            frame += 1\n",
    "        except:\n",
    "            print(\"Reach end of '\" + file_name + \"'\")\n",
    "            READING=False\n",
    "\n",
    "    return xyz\n",
    "    \n",
    "    "
   ]
  },
  {
   "cell_type": "code",
   "execution_count": 7,
   "metadata": {},
   "outputs": [],
   "source": [
    "# Answer to Question 4:\n",
    "def rdf(xyz, LxLyLz, n_bins=100, r_range=(0.01, 10.0)):\n",
    "    '''\n",
    "    rarial pair distribution function\n",
    "\n",
    "    :param xyz: coordinates in xyz format per frame\n",
    "    :param LxLyLz: box length in vector format\n",
    "    :param n_bins: number of bins\n",
    "    :param r_range: range on which to compute rdf\n",
    "    :return:\n",
    "    '''\n",
    "\n",
    "    g_r, edges = np.histogram([0], bins=n_bins, range=r_range)\n",
    "    g_r[0] = 0\n",
    "    g_r = g_r.astype(np.float64)\n",
    "    rho = 0\n",
    "\n",
    "    for i, xyz_i in enumerate(xyz):\n",
    "        xyz_j = np.vstack([xyz[:i], xyz[i + 1:]])\n",
    "        d = np.abs(xyz_i - xyz_j)\n",
    "        d = np.where(d > 0.5 * LxLyLz, LxLyLz - d, d)\n",
    "        d = np.sqrt(np.sum(d ** 2, axis=-1))\n",
    "        temp_g_r, _ = np.histogram(d, bins=n_bins, range=r_range)\n",
    "        g_r += temp_g_r\n",
    "\n",
    "    rho += (i + 1) / np.prod(LxLyLz)\n",
    "    r = 0.5 * (edges[1:] + edges[:-1])\n",
    "    V = 4./3. * np.pi * (np.power(edges[1:], 3) - np.power(edges[:-1], 3))\n",
    "    norm = rho * i\n",
    "    g_r /= norm * V\n",
    "\n",
    "    return r, g_r\n"
   ]
  },
  {
   "cell_type": "code",
   "execution_count": 8,
   "metadata": {},
   "outputs": [],
   "source": [
    "# Defining all the necessary constants\n",
    "Kb = 1.38*10**-23;\n",
    "eps = 1.7*10**-21;"
   ]
  },
  {
   "cell_type": "markdown",
   "metadata": {},
   "source": [
    "#### Question 1.1 "
   ]
  },
  {
   "cell_type": "code",
   "execution_count": 9,
   "metadata": {},
   "outputs": [],
   "source": [
    "# Defining the function for calculation of the total energy\n",
    "@jit(nopython = True)\n",
    "def Etot (Natom, sigma, epsi, traj, Rcut, Lx, Ly, Lz): \n",
    "    '''\n",
    "    Calculates the total energy of a frame. function nameis kept different from the one in the assignment (totalEnergy).\n",
    "    \n",
    "    param:\n",
    "    Natom: total atoms\n",
    "    sigma, eplsilon are written as sigma and epsi \n",
    "    traj: particle trajectory for the frame.\n",
    "    box dimenstions as Lx, Ly and Lz.\n",
    "    Rcut is cutoff radius\n",
    "    \n",
    "    output:\n",
    "    gives the energy of the system as same units as epslion.\n",
    "    '''\n",
    "    \n",
    "    U_adder = 0;  # to store the Total Energy Computed\n",
    "\n",
    " # Now setting up a loop for computing nC2 combinations.\n",
    "\n",
    "    for i in range(0,Natom-1):  \n",
    "        \n",
    "        for j in range(i+1,Natom):\n",
    "            \n",
    "    # we store the values of the the trajectores of the two atoms in z=x, y, z so that it is more convinient to write the code\n",
    "    # although it uses up a lot of the space for the Memory.\n",
    "                  \n",
    "            x1 = traj[0][i];\n",
    "            y1 = traj[1][i];\n",
    "            z1 = traj[2][i];\n",
    "            \n",
    "     # Similarly we put for atom 2\n",
    "            \n",
    "            x2 = traj[0][j];\n",
    "            y2 = traj[1][j];\n",
    "            z2 = traj[2][j];  \n",
    "            \n",
    "  # Getting done with the PBC Stuff\n",
    "\n",
    "            tr2 = np.array([x2, y2, z2]);\n",
    "            tr1 = np.array([x1, y1, z1]);\n",
    "            dist = np.abs(tr2 - tr1);\n",
    "            lxlylz = np.array([Lx, Ly, Lz]);\n",
    "            dist = np.where(dist > 0.5 * lxlylz, lxlylz - dist, dist);\n",
    "        \n",
    "    # now we calculate the Distance between the two particles\n",
    "            \n",
    "            R = (dist[0]**2 + dist[1]**2 + dist[2]**2)**0.5;\n",
    "            \n",
    "    #  Apply the Cutoff Radius Method  and shift the energy potentials properly so that they are no discontinuous.  \n",
    "        \n",
    "            if (R <= Rcut):\n",
    "                \n",
    "                U_adder = U_adder + LJ_real(sigma,epsi,R) ; \n",
    "       \n",
    "        U_adder = U_adder + (Natom/(Lx*Ly*Lz))*8/3*np.pi*epsi*(sigma**3)*(1/3*(sigma/Rcut)**9 - (sigma/Rcut)**3); # Tail correction factor is an approximation\n",
    "    return U_adder;\n",
    "\n"
   ]
  },
  {
   "cell_type": "markdown",
   "metadata": {},
   "source": [
    "#### Question 1.2"
   ]
  },
  {
   "cell_type": "code",
   "execution_count": 10,
   "metadata": {},
   "outputs": [],
   "source": [
    "# Calculation for a single particle\n",
    "@jit(nopython = True)\n",
    "def Etot_1(Natom,sigma,epsi, traj, Rcut, Lx, Ly, Lz, x, y, z): \n",
    "    '''\n",
    "    Calculates the single particle energy. function name is kept different from the one in the assignment (singleParticleEnergy).\n",
    "    \n",
    "    param:\n",
    "    Natom: total atoms\n",
    "    sigma, eplsilon are written as sigma and epsi \n",
    "    box dimenstions as Lx, Ly and Lz.\n",
    "    traj: particle traj for the frame \n",
    "    Rcut is cutoff radius\n",
    "    x,y,z is the particle coord whose energy is computed\n",
    "    \n",
    "    output:\n",
    "    gives the energy of the system as same units as epslion.\n",
    "    \n",
    "    Note: tail correction not done as it only adds to computation time and has no use since it gets cancelled anyway while \n",
    "    calculating acceptance criteria. (U2-U1)/KbT\n",
    "    \n",
    "    '''\n",
    "    \n",
    "    U_adder = 0;  # to store the Total Energy Computed     \n",
    "    \n",
    "    \n",
    "    \n",
    "    for j in range(0,Natom):       \n",
    "            \n",
    "        x2 = traj[0][j];\n",
    "        y2 = traj[1][j];\n",
    "        z2 = traj[2][j];\n",
    "         \n",
    "        if (x == x2):    # if the coordinate matches then theat iteration is skipped.\n",
    "                continue;\n",
    "                \n",
    "  # Getting done with the PBC Stuff\n",
    "        x1 = np.abs(x2 - x) - Lx*np.round(np.abs(x2 - x)/Lx);   # for dx = dx - nearest_int(dx/L)\n",
    "        y1 = np.abs(y2 - y) - Ly*np.round(np.abs(y2 - y)/Ly);\n",
    "        z1 = np.abs(z2 - z) - Lz*np.round(np.abs(z2 - z)/Lz); \n",
    "            \n",
    "    # now we calculate the Distance between the two particles \n",
    "\n",
    "        R = np.sqrt(x1**2 + y1**2 + z1**2);  \n",
    "            \n",
    "    #  Apply the Cutoff Radius Method  and shift the energy potentials properly so that they are no discontinuous.  \n",
    "        \n",
    "        if (R <= Rcut):\n",
    "                \n",
    "            U_adder = U_adder + LJ_real(sigma,epsi,R) ;\n",
    "    \n",
    "    return U_adder;\n",
    "        \n"
   ]
  },
  {
   "cell_type": "markdown",
   "metadata": {},
   "source": [
    "#### Question 1.3"
   ]
  },
  {
   "cell_type": "code",
   "execution_count": 11,
   "metadata": {},
   "outputs": [],
   "source": [
    "# To calculate the real pressure\n",
    "@jit(nopython = True)\n",
    "def Etot_P(T, Natom, sigma, epsi, traj, Rcut, Lx, Ly, Lz): \n",
    "    '''\n",
    "    Computes the pressure of the system. arbritrary name given as no name mentioned in assgn.\n",
    "    \n",
    "    param:\n",
    "    T: system temperature\n",
    "    Natom: No of atoms\n",
    "    sigma and epsi are sigma and epsilon resp.\n",
    "    traj: particle trajectory\n",
    "    Rcut: cutoff\n",
    "    Lx, Ly, Lz: box dimensions\n",
    "    \n",
    "    \n",
    "    Output:\n",
    "    Pressure in Pascals\n",
    "\n",
    "    '''\n",
    "    \n",
    "    U_adder = 0;  # to store the Total Energy Computed\n",
    "\n",
    " # Now setting up a loop for computing nC2 combinations.\n",
    "\n",
    "    for i in range(0,Natom-1):  \n",
    "        \n",
    "        for j in range(i+1,Natom):\n",
    "            \n",
    "    # we store the values of the the trajectores of the two atoms in z=x, y, z so that it is more convinient to write the code\n",
    "    # although it uses up a lot of the space for the Memory.\n",
    "                  \n",
    "            x1 = traj[0][i];\n",
    "            y1 = traj[1][i];\n",
    "            z1 = traj[2][i];\n",
    "            \n",
    "     # Similarly we put for atom 2\n",
    "            \n",
    "            x2 = traj[0][j];\n",
    "            y2 = traj[1][j];\n",
    "            z2 = traj[2][j];\n",
    "    \n",
    "    \n",
    "     \n",
    "            R = 0;   \n",
    "  # Getting done with the PBC Stuff\n",
    "\n",
    "            x = np.abs(x2 - x1) - Lx*np.round(np.abs(x2 - x1)/Lx);   # for dx = dx - nearest_int(dx/L)\n",
    "            y = np.abs(y2 - y1) - Ly*np.round(np.abs(y2 - y1)/Ly);\n",
    "            z = np.abs(z2 - z1) - Lz*np.round(np.abs(z2 - z1)/Lz); \n",
    "            \n",
    "    # now we calculate the Distance between the two particles \n",
    "\n",
    "            R = np.sqrt(x**2 + y**2 + z**2); \n",
    "            if(R <= Rcut):\n",
    "    #  Apply the Cutoff Radius Method  and shift the energy potentials properly so that they are no discontinuous.  \n",
    "                 \n",
    "                U_adder = U_adder + Dudr(sigma,epsi,R); #\n",
    "    \n",
    "    P_reduced = 2/2*Natom/(Lx*Ly*Lz)*(Kb*T)/eps- 1/(3*Lx*Ly*Lz)*((U_adder));  #  1 is taken as epsion is Kelvin and not joules '-' sign is taen cae in the function definition\n",
    "    P_Pascal = P_reduced*eps /(10**-30);    \n",
    "    return P_Pascal;\n",
    "\n",
    "    \n"
   ]
  },
  {
   "cell_type": "markdown",
   "metadata": {},
   "source": [
    "#### Question 1.4\n"
   ]
  },
  {
   "cell_type": "code",
   "execution_count": 12,
   "metadata": {},
   "outputs": [],
   "source": [
    "#Just perform the equilibriation and dont store the system enegy and pressure and not compute it as well.\n",
    "\n",
    "def translate_EQ(T, Natom, sigma, epsi, traj, Rcut, Lx, Ly, Lz, step_size, run):\n",
    "    '''\n",
    "    Performs the MC move for the said number of steps.\n",
    "    \"Does Not\" compute the Total system energy or Pressure. Just designed to perform equilibration and not for sampling. \n",
    "    \n",
    "      param:\n",
    "    T: system temperature\n",
    "    Natom: No of atoms\n",
    "    sigma and epsi are sigma and epsilon resp.\n",
    "    traj: particle trajectory\n",
    "    Rcut: cutoff\n",
    "    Lx, Ly, Lz: box dimensions\n",
    "    step_size: adjusted according to maximum displacement in Lx, Ly and Lz.\n",
    "    run: Number of cycles\n",
    "    \n",
    "    Output:\n",
    "    Relaxed trajectory\n",
    "    \n",
    "    '''\n",
    "    a = traj;\n",
    "    relaxation = [];                        #To store the accept move's energy\n",
    "    all_en = []; \n",
    "    all_p = [];\n",
    "    # To store any energy compute rejected as well as accepted.\n",
    "    # Randomly select an atom for the box.\n",
    "        \n",
    "    for i in range(0,run): \n",
    "        A = np.random.rand(1);       #(Selects a number from 0 to 1 and then uses this selection to pick a random particle) \n",
    "        v = (Natom-1)*A[0];                 # pick a random molecule from the array of the trajectories\n",
    "        Select = int(v);                    # Convent into an array indice\n",
    "        \n",
    "        # Compute the old Energy of the Particle\n",
    "        e_old_part = Etot_1(Natom, sigma, epsi, a, Rcut, Lx, Ly, Lz, a[0][Select], a[1][Select], a[2][Select]);\n",
    "        \n",
    "        # Extract the Coordinates of the randomly selected atom and move it.\n",
    "        move = ran_num_gen(3)*step_size; \n",
    "        # Save to old configuration   \n",
    "        tempx = a[0][Select];\n",
    "        tempy = a[1][Select];\n",
    "        tempz = a[2][Select];    \n",
    "    \n",
    "        # Change the configuration\n",
    "        a[0][Select] = a[0][Select] + move[0];\n",
    "        a[1][Select] = a[1][Select] + move[1];\n",
    "        a[2][Select] = a[2][Select] + move[2];\n",
    "        \n",
    "        # Calculate the new energy of the particle\n",
    "        e_new_part = Etot_1(Natom, sigma, epsi, a, Rcut, Lx, Ly, Lz, a[0][Select], a[1][Select], a[2][Select]);  \n",
    "        \n",
    "        #Compute the Probability\n",
    "        DU = e_new_part - e_old_part;\n",
    "        flag = s.exp((-DU*eps)/(Kb*T));\n",
    "        p = min(flag,1);\n",
    "        \n",
    "        # Accept or Reject\n",
    "        if (p >= float(np.random.rand(1))):\n",
    "            continue;     # This was simply used to get rid of an \"if\" statement.\n",
    "        \n",
    "        # This to bring the old configuration back if the move is rejected.\n",
    "        a[0][Select] = tempx;\n",
    "        a[1][Select] = tempy;\n",
    "        a[2][Select] = tempz;\n",
    "          \n",
    "    return (a);\n",
    " # will just return the final equilibrium configuration"
   ]
  },
  {
   "cell_type": "code",
   "execution_count": 13,
   "metadata": {},
   "outputs": [],
   "source": [
    "def translate_Sample(T, Natom, sigma, epsi, traj, Rcut, Lx, Ly, Lz, step_size,run):\n",
    "    '''\n",
    "    Performs the MC move for the said number of steps.\n",
    "    \"Computes\" the Total system energy or Pressure. Just designed to perform equilibration and also sampling. \n",
    "    \n",
    "    param:\n",
    "    T: system temperature\n",
    "    Natom: No of atoms\n",
    "    sigma and epsi are sigma and epsilon resp.\n",
    "    traj: particle trajectory\n",
    "    Rcut: cutoff\n",
    "    Lx, Ly, Lz: box dimensions\n",
    "    step_size: adjusted according to maximum displacementin Lx, Ly and Lz.\n",
    "    run: Number of cycles\n",
    "    \n",
    "    Output:\n",
    "    energy of accepted steps, \n",
    "    energy of all the steps, \n",
    "    pressure of al steps and final equilibrated frame.\n",
    "    \n",
    "    Note: as per the assignment, a function was to be defined for just a single translation move and this function had to\n",
    "    be looped for the required number of cycles.\n",
    "    This has not been followed as repetitive parsing of the trajectory array into a function within a loop\n",
    "    was prohibited for my jupyter notebook for 32bit processor.\n",
    "    Hence the function was written in this manner.\n",
    "    \n",
    "    '''\n",
    "    a = traj;\n",
    "    relaxation = [];                        #To store the accept move's energy\n",
    "    all_en = []; \n",
    "    all_p = [];\n",
    "    # To store any energy compute rejected as well as accepted.\n",
    "    # Randomly select an atom for the box.\n",
    "        \n",
    "    for i in range(0,run): \n",
    "        A = np.random.rand(1);       #(Selects a number from 0 to 1 and then uses this selection to pick a random particle) \n",
    "        v = (Natom-1)*A[0];                 # pick a random molecule from the array of the trajectories\n",
    "        Select = int(v);                    # Convent into an array indice\n",
    "        \n",
    "        # Compute the old Energy of the Particle\n",
    "        e_old_part = Etot_1(Natom, sigma, epsi, a, Rcut, Lx, Ly, Lz, a[0][Select], a[1][Select], a[2][Select]);\n",
    "        \n",
    "        # Extract the Coordinates of the randomly selected atom and move it.\n",
    "        move = ran_num_gen(3)*step_size; \n",
    "        # Save to old configuration   \n",
    "        tempx = a[0][Select];\n",
    "        tempy = a[1][Select];\n",
    "        tempz = a[2][Select];    \n",
    "    \n",
    "        # Change the configuration\n",
    "        a[0][Select] = a[0][Select] + move[0];\n",
    "        a[1][Select] = a[1][Select] + move[1];\n",
    "        a[2][Select] = a[2][Select] + move[2];\n",
    "        \n",
    "        # Calculate the new energy of the particle\n",
    "        e_new_part = Etot_1(Natom, sigma, epsi, a, Rcut, Lx, Ly, Lz, a[0][Select], a[1][Select], a[2][Select]);\n",
    "        \n",
    "        # Store all the energies even if rejected\n",
    "        e_new = Etot(Natom, sigma, epsi, a, Rcut, Lx, Ly, Lz);\n",
    "        all_en.append(e_new);   \n",
    "        \n",
    "        Pressure  = Etot_P(T, Natom, sigma, epsi, a, Rcut, Lx, Ly, Lz);\n",
    "        all_p.append(Pressure);\n",
    "        \n",
    "        #Compute the Probability\n",
    "        DU = e_new_part - e_old_part;\n",
    "        flag = s.exp((-DU*eps)/(Kb*T));\n",
    "        p = min(flag,1);\n",
    "        \n",
    "        # Accept or Reject\n",
    "        if (p >= float(np.random.rand(1))):\n",
    "            relaxation.append(e_new);\n",
    "            \n",
    "            # Computes and stores the pressure for the current configuration\n",
    "            \n",
    "            continue;     # This was simply used to get rid of an \"if\" statement.\n",
    "        \n",
    "        # This to bring the old configuration back if the move is rejected.\n",
    "        a[0][Select] = tempx;\n",
    "        a[1][Select] = tempy;\n",
    "        a[2][Select] = tempz;\n",
    "          \n",
    "    return (relaxation, all_en, all_p, a);\n",
    " "
   ]
  },
  {
   "cell_type": "markdown",
   "metadata": {},
   "source": [
    "#### Question 1.5"
   ]
  },
  {
   "cell_type": "code",
   "execution_count": 14,
   "metadata": {},
   "outputs": [],
   "source": [
    "def startConf(T, Npart, sigma, epsi, Rcut, Lx, Ly, Lz, step_size, run):\n",
    "    '''\n",
    "    Creates a initial system, with randomly placed particles and removes closely placed atoms.\n",
    "    \n",
    "    param:\n",
    "    T: system temperature\n",
    "    Npart: No of atoms\n",
    "    sigma and epsi are sigma and epsilon resp.\n",
    "    Rcut: cutoff\n",
    "    Lx, Ly, Lz: box dimensions\n",
    "    step_size: adjusted according to maximum displacemet in Lx, Ly and Lz.\n",
    "    run: Number of cycles for removing overlaps.\n",
    "    \n",
    "    \n",
    "    Output:\n",
    "    the equilibrated frame.\n",
    "    \n",
    "    Note: Does not sample when it is equilibrating. \n",
    "    \n",
    "    '''\n",
    "    \n",
    "    traj_coord = [[],[],[]]; # to store the  particle trajectories\n",
    "    part_count = 1;\n",
    "\n",
    "    #~~~~~~~~~~~~~~~~~~~Create the first Particle~~~~~~~~~~~~~~~~~~~~~~~~~~~~ \n",
    "    seedx = float(Lx/2*ran_num_gen(1));  # ran_num_gen creates a value between -1 to 1 and I scale it to -L/2 to +L/2\n",
    "    seedy = float(Ly/2*ran_num_gen(1));  # to create a new particle\n",
    "    seedz = float(Lz/2*ran_num_gen(1));   \n",
    "        \n",
    "    traj_coord[0].append(seedx);\n",
    "    traj_coord[1].append(seedy);\n",
    "    traj_coord[2].append(seedz);\n",
    "    #~~~~~~~~~~~~~~~~~~~~~~~~~~~~~~~~~~~~~~~~~~~~~~~~~~~~~~~~~~~~~~~~~~~~~~~~\n",
    "    \n",
    "    while (part_count <= Npart-1): # -1 taken as we create the first particle outside the loop \n",
    "            \n",
    "        x1 = float(Lx/2*ran_num_gen(1));  # ran_num_gen creates a value between -1 to 1 and I scale it to -L/2 to +L/2\n",
    "        y1 = float(Ly/2*ran_num_gen(1));  # to create a new particle\n",
    "        z1 = float(Lz/2*ran_num_gen(1));\n",
    "            \n",
    "            \n",
    "        flag =0;\n",
    "        for i in range(0,part_count):  \n",
    "                \n",
    "            x = traj_coord[0][i-1];\n",
    "            y = traj_coord[1][i-1];\n",
    "            z = traj_coord[2][i-1];\n",
    "            \n",
    "            d = s.sqrt((x-x1)**2 + (y-y1)**2 + (z-z1)**2);\n",
    "            \n",
    "            if (d <= 3): # to maintain a distance of Atleast 3 angtrom \n",
    "                flag = 1;    \n",
    "            \n",
    "        if (flag == 0):\n",
    "            # Store the trajectories\n",
    "            traj_coord[0].append(x1);\n",
    "            traj_coord[1].append(y1);\n",
    "            traj_coord[2].append(z1);\n",
    "            part_count += 1; \n",
    "    \n",
    "    traj_coord = np.array(traj_coord);\n",
    "    \n",
    "    # Relax the Structure a bit to remove any coinsiding atoms.\n",
    "    a = translate_EQ(T, Npart, sigma, epsi, traj_coord, Rcut, Lx, Ly, Lz, step_size,run); \n",
    "    return a;"
   ]
  },
  {
   "cell_type": "code",
   "execution_count": 34,
   "metadata": {
    "scrolled": false
   },
   "outputs": [
    {
     "name": "stdout",
     "output_type": "stream",
     "text": [
      "Time in sec  44.269519090652466\n"
     ]
    }
   ],
   "source": [
    "# this is just kept to test whether the code is woring condition or not.\n",
    "# If there is serious an error here, the further code will not work.\n",
    "#The time in sec tell you the til for 500 MC cycles set the runs accordingly \n",
    "\n",
    "a = startConf(150, 362, 3.73, 148*Kb/eps, 14, 30, 30, 30, 0.5, 100);\n",
    "t = time.time();\n",
    "a1 = translate_Sample(150, 362, 3.73, 148*Kb/eps,a, 14, 30, 30, 30, 0.5, 500)\n",
    "print(\"Time in sec \", time.time() - t);\n"
   ]
  },
  {
   "cell_type": "markdown",
   "metadata": {},
   "source": [
    "#### Question 1.6"
   ]
  },
  {
   "cell_type": "code",
   "execution_count": 17,
   "metadata": {},
   "outputs": [],
   "source": [
    "# function to perform the averages\n",
    "@jit(nopython = True)\n",
    "def averages(A):\n",
    "    '''\n",
    "    Computes the averages\n",
    "    params:\n",
    "    The array of the variables for the average calculation.\n",
    "    \n",
    "    Output:\n",
    "    average value\n",
    "    '''\n",
    "    sum = 0;\n",
    "    for i in range(len(A)):\n",
    "        sum = sum +A[i-1];\n",
    "    return (sum/len(A));            \n",
    "        "
   ]
  },
  {
   "cell_type": "markdown",
   "metadata": {},
   "source": [
    "#### Question 1.7"
   ]
  },
  {
   "cell_type": "code",
   "execution_count": 18,
   "metadata": {},
   "outputs": [],
   "source": [
    "#Finally Putting all the System Together into a NVT_MC Model\n",
    "\n",
    "def Monte_Carlo_NVT(Npart, T, sigma, epsi, Rcut, Lx, Ly, Lz, step_size, run, run1):\n",
    "    '''\n",
    "    Has two parts: create configuration and equilibrates, and then smaples.\n",
    "    \n",
    "    param:\n",
    "    T: system temperature\n",
    "    Npart: No of atoms\n",
    "    sigma and epsi are sigma and epsilon resp.\n",
    "    Rcut: cutoff\n",
    "    Lx, Ly, Lz: box dimensions\n",
    "    step_size: adjusted according to maximum in Lx, Ly and Lz, for stepsize of x the maximum disp is x*3**0.5.\n",
    "    \n",
    "    run: Number of cycles for removing overlaps  and equilibration.(put this a larger value say 500000)\n",
    "    run1: Sampling runs (keep this less but sufficient enough say 50000 as this taes a lot of time) \n",
    "    \n",
    "    \n",
    "    Output:\n",
    "    Avg_P: Average pressure\n",
    "    Avg_E: Average energy\n",
    "    Pressure_arr: Pressure array of all frames.\n",
    "    Energy_arr: the energy array of all frames (accepted or rejected)\n",
    "    Relaxation_arr: the energy array of the accepted frames \n",
    "    \n",
    "    '''\n",
    "    # create conf and equilibrate it.\n",
    "    coord_arr = startConf(T, Npart, sigma, epsi, Rcut, Lx, Ly, Lz, step_size, run);\n",
    "    \n",
    "    # Now do sampling on the equilibriated system.\n",
    "    \n",
    "    Data  = translate_Sample(T, Npart, sigma, epsi, coord_arr, Rcut, Lx, Ly, Lz, step_size, run1);\n",
    "    \n",
    "    Pressure_arr = np.array(Data[2]);\n",
    "    Energy_arr = np.array(Data[1]);\n",
    "    Relaxation_arr = np.array(Data[0]);\n",
    "    \n",
    "    Avg_P = averages(Pressure_arr);\n",
    "    Avg_E = averages(Energy_arr);\n",
    "    Acceptance = len(Relaxation_arr)/len(Energy_arr);\n",
    "    \n",
    "    return Avg_P, Avg_E,Pressure_arr, Energy_arr, Relaxation_arr, Acceptance;\n",
    "        "
   ]
  },
  {
   "cell_type": "markdown",
   "metadata": {},
   "source": [
    "### Question 2.1 Application of MC_NVT Code\n",
    "\n",
    "#### Question 2.1"
   ]
  },
  {
   "cell_type": "code",
   "execution_count": 35,
   "metadata": {},
   "outputs": [
    {
     "name": "stdout",
     "output_type": "stream",
     "text": [
      "11\n"
     ]
    },
    {
     "ename": "KeyboardInterrupt",
     "evalue": "",
     "output_type": "error",
     "traceback": [
      "\u001b[1;31m---------------------------------------------------------------------------\u001b[0m",
      "\u001b[1;31mKeyboardInterrupt\u001b[0m                         Traceback (most recent call last)",
      "\u001b[1;32m<ipython-input-35-e4b26c9b770e>\u001b[0m in \u001b[0;36m<module>\u001b[1;34m()\u001b[0m\n\u001b[0;32m      4\u001b[0m \u001b[1;32mfor\u001b[0m \u001b[0mi\u001b[0m \u001b[1;32min\u001b[0m \u001b[0mrange\u001b[0m\u001b[1;33m(\u001b[0m\u001b[1;36m0\u001b[0m\u001b[1;33m,\u001b[0m\u001b[1;36m12\u001b[0m\u001b[1;33m)\u001b[0m\u001b[1;33m:\u001b[0m\u001b[1;33m\u001b[0m\u001b[0m\n\u001b[0;32m      5\u001b[0m     \u001b[0mj\u001b[0m \u001b[1;33m=\u001b[0m \u001b[0mj\u001b[0m \u001b[1;33m+\u001b[0m \u001b[1;36m0.25\u001b[0m\u001b[1;33m;\u001b[0m\u001b[1;33m\u001b[0m\u001b[0m\n\u001b[1;32m----> 6\u001b[1;33m     \u001b[0ma\u001b[0m \u001b[1;33m=\u001b[0m \u001b[0mMonte_Carlo_NVT\u001b[0m\u001b[1;33m(\u001b[0m\u001b[1;36m362\u001b[0m\u001b[1;33m,\u001b[0m \u001b[1;36m150\u001b[0m\u001b[1;33m,\u001b[0m \u001b[1;36m3.73\u001b[0m\u001b[1;33m,\u001b[0m \u001b[1;36m148\u001b[0m\u001b[1;33m*\u001b[0m\u001b[0mKb\u001b[0m\u001b[1;33m/\u001b[0m\u001b[0meps\u001b[0m\u001b[1;33m,\u001b[0m \u001b[1;36m14\u001b[0m\u001b[1;33m,\u001b[0m \u001b[1;36m30\u001b[0m\u001b[1;33m,\u001b[0m \u001b[1;36m30\u001b[0m\u001b[1;33m,\u001b[0m \u001b[1;36m30\u001b[0m\u001b[1;33m,\u001b[0m\u001b[0mj\u001b[0m \u001b[1;33m,\u001b[0m \u001b[1;36m200000\u001b[0m\u001b[1;33m,\u001b[0m \u001b[1;36m1000\u001b[0m\u001b[1;33m)\u001b[0m\u001b[1;33m\u001b[0m\u001b[0m\n\u001b[0m\u001b[0;32m      7\u001b[0m     \u001b[0mrate\u001b[0m \u001b[1;33m=\u001b[0m \u001b[0ma\u001b[0m\u001b[1;33m[\u001b[0m\u001b[1;36m5\u001b[0m\u001b[1;33m]\u001b[0m\u001b[1;33m;\u001b[0m\u001b[1;33m\u001b[0m\u001b[0m\n\u001b[0;32m      8\u001b[0m     \u001b[0mprint\u001b[0m\u001b[1;33m(\u001b[0m\u001b[1;34m\"11\"\u001b[0m\u001b[1;33m)\u001b[0m\u001b[1;33m;\u001b[0m\u001b[1;33m\u001b[0m\u001b[0m\n",
      "\u001b[1;32m<ipython-input-18-addf1baec41b>\u001b[0m in \u001b[0;36mMonte_Carlo_NVT\u001b[1;34m(Npart, T, sigma, epsi, Rcut, Lx, Ly, Lz, step_size, run, run1)\u001b[0m\n\u001b[0;32m     30\u001b[0m     \u001b[1;31m# Now do sampling on the equilibriated system.\u001b[0m\u001b[1;33m\u001b[0m\u001b[1;33m\u001b[0m\u001b[0m\n\u001b[0;32m     31\u001b[0m \u001b[1;33m\u001b[0m\u001b[0m\n\u001b[1;32m---> 32\u001b[1;33m     \u001b[0mData\u001b[0m  \u001b[1;33m=\u001b[0m \u001b[0mtranslate_Sample\u001b[0m\u001b[1;33m(\u001b[0m\u001b[0mT\u001b[0m\u001b[1;33m,\u001b[0m \u001b[0mNpart\u001b[0m\u001b[1;33m,\u001b[0m \u001b[0msigma\u001b[0m\u001b[1;33m,\u001b[0m \u001b[0mepsi\u001b[0m\u001b[1;33m,\u001b[0m \u001b[0mcoord_arr\u001b[0m\u001b[1;33m,\u001b[0m \u001b[0mRcut\u001b[0m\u001b[1;33m,\u001b[0m \u001b[0mLx\u001b[0m\u001b[1;33m,\u001b[0m \u001b[0mLy\u001b[0m\u001b[1;33m,\u001b[0m \u001b[0mLz\u001b[0m\u001b[1;33m,\u001b[0m \u001b[0mstep_size\u001b[0m\u001b[1;33m,\u001b[0m \u001b[0mrun1\u001b[0m\u001b[1;33m)\u001b[0m\u001b[1;33m;\u001b[0m\u001b[1;33m\u001b[0m\u001b[0m\n\u001b[0m\u001b[0;32m     33\u001b[0m \u001b[1;33m\u001b[0m\u001b[0m\n\u001b[0;32m     34\u001b[0m     \u001b[0mPressure_arr\u001b[0m \u001b[1;33m=\u001b[0m \u001b[0mnp\u001b[0m\u001b[1;33m.\u001b[0m\u001b[0marray\u001b[0m\u001b[1;33m(\u001b[0m\u001b[0mData\u001b[0m\u001b[1;33m[\u001b[0m\u001b[1;36m2\u001b[0m\u001b[1;33m]\u001b[0m\u001b[1;33m)\u001b[0m\u001b[1;33m;\u001b[0m\u001b[1;33m\u001b[0m\u001b[0m\n",
      "\u001b[1;32m<ipython-input-13-4e818dcd61de>\u001b[0m in \u001b[0;36mtranslate_Sample\u001b[1;34m(T, Natom, sigma, epsi, traj, Rcut, Lx, Ly, Lz, step_size, run)\u001b[0m\n\u001b[0;32m     58\u001b[0m         \u001b[1;31m# Store all the energies even if rejected\u001b[0m\u001b[1;33m\u001b[0m\u001b[1;33m\u001b[0m\u001b[0m\n\u001b[0;32m     59\u001b[0m         \u001b[0me_new\u001b[0m \u001b[1;33m=\u001b[0m \u001b[0mEtot\u001b[0m\u001b[1;33m(\u001b[0m\u001b[0mNatom\u001b[0m\u001b[1;33m,\u001b[0m \u001b[0msigma\u001b[0m\u001b[1;33m,\u001b[0m \u001b[0mepsi\u001b[0m\u001b[1;33m,\u001b[0m \u001b[0ma\u001b[0m\u001b[1;33m,\u001b[0m \u001b[0mRcut\u001b[0m\u001b[1;33m,\u001b[0m \u001b[0mLx\u001b[0m\u001b[1;33m,\u001b[0m \u001b[0mLy\u001b[0m\u001b[1;33m,\u001b[0m \u001b[0mLz\u001b[0m\u001b[1;33m)\u001b[0m\u001b[1;33m;\u001b[0m\u001b[1;33m\u001b[0m\u001b[0m\n\u001b[1;32m---> 60\u001b[1;33m         \u001b[0mall_en\u001b[0m\u001b[1;33m.\u001b[0m\u001b[0mappend\u001b[0m\u001b[1;33m(\u001b[0m\u001b[0me_new\u001b[0m\u001b[1;33m)\u001b[0m\u001b[1;33m;\u001b[0m\u001b[1;33m\u001b[0m\u001b[0m\n\u001b[0m\u001b[0;32m     61\u001b[0m \u001b[1;33m\u001b[0m\u001b[0m\n\u001b[0;32m     62\u001b[0m         \u001b[0mPressure\u001b[0m  \u001b[1;33m=\u001b[0m \u001b[0mEtot_P\u001b[0m\u001b[1;33m(\u001b[0m\u001b[0mT\u001b[0m\u001b[1;33m,\u001b[0m \u001b[0mNatom\u001b[0m\u001b[1;33m,\u001b[0m \u001b[0msigma\u001b[0m\u001b[1;33m,\u001b[0m \u001b[0mepsi\u001b[0m\u001b[1;33m,\u001b[0m \u001b[0ma\u001b[0m\u001b[1;33m,\u001b[0m \u001b[0mRcut\u001b[0m\u001b[1;33m,\u001b[0m \u001b[0mLx\u001b[0m\u001b[1;33m,\u001b[0m \u001b[0mLy\u001b[0m\u001b[1;33m,\u001b[0m \u001b[0mLz\u001b[0m\u001b[1;33m)\u001b[0m\u001b[1;33m;\u001b[0m\u001b[1;33m\u001b[0m\u001b[0m\n",
      "\u001b[1;31mKeyboardInterrupt\u001b[0m: "
     ]
    }
   ],
   "source": [
    "#~~~~~~~~~~~~~~~~~~~~~~~~~~~~~~~~~~~~~~~~~~~~~Insert the Input Parameters Here~~~~~~~~~~~~~~~~~~~~~~~~~~~~~~~~~~~~~~~~~~~~~~~\n",
    "acceptance = []\n",
    "j = 0\n",
    "for i in range(0,12):\n",
    "    j = j + 0.25;    \n",
    "    a = Monte_Carlo_NVT(362, 150, 3.73, 148*Kb/eps, 14, 30, 30, 30,j , 200000, 1000)\n",
    "    rate = a[5];\n",
    "    acceptance.append(rate);"
   ]
  },
  {
   "cell_type": "code",
   "execution_count": 21,
   "metadata": {},
   "outputs": [
    {
     "data": {
      "text/plain": [
       "Text(0.5,1,'The Variation of the Acceptance rate with the step size ')"
      ]
     },
     "execution_count": 21,
     "metadata": {},
     "output_type": "execute_result"
    },
    {
     "data": {
      "image/png": "[encoded data removed]",
      "text/plain": [
       "<Figure size 504x504 with 1 Axes>"
      ]
     },
     "metadata": {},
     "output_type": "display_data"
    }
   ],
   "source": [
    "# PLot for the variation of the acceptance with the step size\n",
    "plt.figure(figsize = (7,7))\n",
    "plt.scatter ([ 0.25, 0.5, 0.75, 1.00, 1.25, 1.5, 1.75, 2.0, 2.25, 2.5, 2.75, 3],acceptance, marker = \"*\");\n",
    "plt.ylabel(\"The acceptance rate\")\n",
    "plt.xlabel(\"The step length in Angstroms\")\n",
    "plt.title(\"The Variation of the Acceptance rate with the step size \")\n"
   ]
  },
  {
   "cell_type": "markdown",
   "metadata": {},
   "source": [
    "#### Question 2.2"
   ]
  },
  {
   "cell_type": "code",
   "execution_count": 28,
   "metadata": {},
   "outputs": [
    {
     "name": "stdout",
     "output_type": "stream",
     "text": [
      "runtime 149.88283896446228 rate 0.9811\n",
      "runtime 153.8870210647583 rate 0.9764\n",
      "runtime 153.0754852294922 rate 0.9535\n",
      "runtime 155.57639861106873 rate 0.9482\n",
      "runtime 161.8747787475586 rate 0.9356\n",
      "runtime 217.95335817337036 rate 0.9275\n",
      "runtime 213.03645277023315 rate 0.9204\n",
      "runtime 192.05660319328308 rate 0.919\n",
      "runtime 184.75244164466858 rate 0.9064\n",
      "runtime 179.10648941993713 rate 0.9087\n",
      "runtime 174.86131811141968 rate 0.8997\n",
      "runtime 171.70640420913696 rate 0.8962\n",
      "runtime 153.8754849433899 rate 0.888\n",
      "runtime 160.01684021949768 rate 0.8963\n",
      "runtime 167.149272441864 rate 0.8958\n",
      "runtime 167.43908166885376 rate 0.8931\n",
      "runtime 164.1636893749237 rate 0.8958\n",
      "runtime 167.6734549999237 rate 0.8884\n",
      "runtime 172.27742981910706 rate 0.8945\n",
      "runtime 167.39116644859314 rate 0.8877\n",
      "runtime 172.85397791862488 rate 0.8946\n",
      "runtime 170.1289086341858 rate 0.8872\n",
      "runtime 175.54584765434265 rate 0.8807\n",
      "runtime 172.16215562820435 rate 0.8944\n",
      "runtime 168.01236605644226 rate 0.8821\n",
      "runtime 162.72425961494446 rate 0.8815\n",
      "runtime 152.6811637878418 rate 0.892\n",
      "runtime 154.63458633422852 rate 0.8811\n",
      "runtime 153.96669173240662 rate 0.8837\n",
      "runtime 160.32383370399475 rate 0.8827\n",
      "runtime 146.69033980369568 rate 0.8933\n",
      "runtime 147.27726650238037 rate 0.8898\n",
      "runtime 145.93215441703796 rate 0.8856\n",
      "runtime 145.69002294540405 rate 0.8923\n",
      "runtime 150.2432312965393 rate 0.8822\n",
      "runtime 160.70124864578247 rate 0.8835\n"
     ]
    }
   ],
   "source": [
    "#~~~~~~~~~~~~~~~~~~~~~~~~~~~~~~~~~~~~~~~~~~~~~Insert the Input Parameters Here~~~~~~~~~~~~~~~~~~~~~~~~~~~~~~~~~~~~~~~~~~~~~~~~\n",
    "acceptance = [];\n",
    "j = 0\n",
    "for i in range(0,36):\n",
    "    j = j + 0.5;    \n",
    "    a = Monte_Carlo_NVT(153, 400, 3.73, 148*Kb/eps, 30, 75, 75, 75, j , 100000, 10000)\n",
    "    rate = a[5];\n",
    "    acceptance.append(rate);"
   ]
  },
  {
   "cell_type": "code",
   "execution_count": 31,
   "metadata": {},
   "outputs": [
    {
     "data": {
      "text/plain": [
       "Text(0.5,1,'The Variation of the Acceptance rate with the step size ')"
      ]
     },
     "execution_count": 31,
     "metadata": {},
     "output_type": "execute_result"
    },
    {
     "data": {
      "image/png": "[encoded data removed]",
      "text/plain": [
       "<Figure size 504x504 with 1 Axes>"
      ]
     },
     "metadata": {},
     "output_type": "display_data"
    }
   ],
   "source": [
    "# PLot for the variation of the acceptance with the step size\n",
    "plt.figure(figsize = (7,7))\n",
    "plt.scatter (np.linspace(0.5,18.5,36),acceptance, marker = \"*\" );\n",
    "plt.ylabel(\"The acceptance rate\")\n",
    "plt.xlabel(\"The step length in Angstroms\")\n",
    "plt.title(\"The Variation of the Acceptance rate with the step size \")"
   ]
  },
  {
   "cell_type": "markdown",
   "metadata": {},
   "source": [
    "#### Question 2.3"
   ]
  },
  {
   "cell_type": "code",
   "execution_count": 151,
   "metadata": {},
   "outputs": [
    {
     "name": "stdout",
     "output_type": "stream",
     "text": [
      "11482.077052116394\n"
     ]
    }
   ],
   "source": [
    "# Energy calculation using 0.5 Angstrom Step size \n",
    "ab = Monte_Carlo_NVT(362, 150, 3.73, 148*Kb/eps, 14, 30, 30, 30, 0.5 , 2500, 100000);"
   ]
  },
  {
   "cell_type": "code",
   "execution_count": 23,
   "metadata": {},
   "outputs": [],
   "source": [
    "ener = Monte_Carlo_NVT(362, 150, 3.73, 148*Kb/eps, 14, 30, 30, 30, 0.5 , 450000, 50000);"
   ]
  },
  {
   "cell_type": "code",
   "execution_count": 153,
   "metadata": {},
   "outputs": [
    {
     "name": "stdout",
     "output_type": "stream",
     "text": [
      "-248683.98504662796\n"
     ]
    }
   ],
   "source": [
    "print(\"The energy is in Kelvin is \"ener[1]*eps/Kb);"
   ]
  },
  {
   "cell_type": "code",
   "execution_count": 152,
   "metadata": {},
   "outputs": [
    {
     "data": {
      "text/plain": [
       "Text(0.5,1,' To study the steps needed to reach equilibrium')"
      ]
     },
     "execution_count": 152,
     "metadata": {},
     "output_type": "execute_result"
    },
    {
     "data": {
      "image/png": "[encoded data removed]",
      "text/plain": [
       "<Figure size 1080x504 with 1 Axes>"
      ]
     },
     "metadata": {},
     "output_type": "display_data"
    }
   ],
   "source": [
    "# 2300 cells have been readjusted (0 to 2300 indices are hidden) for proper visibility. set your values according to the run\n",
    "plt.figure(figsize = (15,7))\n",
    "plt.plot(np.linspace(2300,len(ab[3]),(len(ab[3])-2300)), ab[3][2300: len(ab[3])]*eps/Kb, ms = '1' );\n",
    "plt.ylabel(\"Energy in Kelvin\");\n",
    "plt.xlabel(\"MC Steps\");\n",
    "plt.title(\" To study the steps needed to reach equilibrium\")"
   ]
  },
  {
   "cell_type": "code",
   "execution_count": 30,
   "metadata": {},
   "outputs": [
    {
     "name": "stdout",
     "output_type": "stream",
     "text": [
      "Error in the code is +- 2311.4395566647827  i.e.the standard deviation\n"
     ]
    }
   ],
   "source": [
    "# error Calculation\n",
    "sum = 0;\n",
    "Avg = ener[1];\n",
    "\n",
    "for i in range (len(ener[3])):\n",
    "    sum  += (ener[3][i-1] - Avg)**2\n",
    "\n",
    "Std_Dev = np.sqrt(sum/len(ener[3]));\n",
    "print(\"Error in the code is\",\"+-\",Std_Dev*eps/Kb, \" i.e.the standard deviation\" );    "
   ]
  },
  {
   "cell_type": "markdown",
   "metadata": {},
   "source": [
    "#### Question 3.1"
   ]
  },
  {
   "cell_type": "code",
   "execution_count": 37,
   "metadata": {},
   "outputs": [],
   "source": [
    "\n",
    "# create a smapling fucntion which writes the trajectory and put it in a new MC_NVT function.\n",
    "def translate_Sample_write(T, Natom, sigma, epsi, traj, Rcut, Lx, Ly, Lz, step_size,run, file_name):\n",
    "    '''\n",
    "    Exactly same function as translate_Sample function except that it has a writing function which writes the accepted steps\n",
    "\n",
    "    '''\n",
    "    a = traj;\n",
    "    relaxation = [];                        #To store the accept move's energy\n",
    "    all_en = []; \n",
    "    all_p = [];\n",
    "    # To store any energy compute rejected as well as accepted.\n",
    "    # Randomly select an atom for the box.\n",
    "        \n",
    "    for i in range(0,run): \n",
    "        A = np.random.rand(1);       #(Selects a number from 0 to 1 and then uses this selection to pick a random particle) \n",
    "        v = (Natom-1)*A[0];                 # pick a random molecule from the array of the trajectories\n",
    "        Select = int(v);                    # Convent into an array indice\n",
    "        \n",
    "        # Compute the old Energy of the Particle\n",
    "        e_old_part = Etot_1(Natom, sigma, epsi, a, Rcut, Lx, Ly, Lz, a[0][Select], a[1][Select], a[2][Select]);\n",
    "        \n",
    "        # Extract the Coordinates of the randomly selected atom and move it.\n",
    "        move = ran_num_gen(3)*step_size; \n",
    "        # Save to old configuration   \n",
    "        tempx = a[0][Select];\n",
    "        tempy = a[1][Select];\n",
    "        tempz = a[2][Select];    \n",
    "    \n",
    "        # Change the configuration\n",
    "        a[0][Select] = a[0][Select] + move[0];\n",
    "        a[1][Select] = a[1][Select] + move[1];\n",
    "        a[2][Select] = a[2][Select] + move[2];\n",
    "        \n",
    "        # Calculate the new energy of the particle\n",
    "        e_new_part = Etot_1(Natom, sigma, epsi, a, Rcut, Lx, Ly, Lz, a[0][Select], a[1][Select], a[2][Select]);\n",
    "        \n",
    "        # Store all the energies even if rejected\n",
    "        e_new = Etot(Natom, sigma, epsi, a, Rcut, Lx, Ly, Lz)\n",
    "        all_en.append(e_new);   \n",
    "        \n",
    "        Pressure  = Etot_P(T, Natom, sigma, epsi, a, Rcut, Lx, Ly, Lz);\n",
    "        all_p.append(Pressure);\n",
    "        \n",
    "        #Compute the Probability\n",
    "        DU = e_new_part - e_old_part;\n",
    "        flag = s.exp((-DU*eps)/(Kb*T));\n",
    "        p = min(flag,1);\n",
    "        \n",
    "        # Accept or Reject\n",
    "        if (p >= float(np.random.rand(1))):\n",
    "            relaxation.append(e_new);\n",
    "            temp = a.transpose();\n",
    "            write_xyz_traj(temp, Natom, file_name)\n",
    "            \n",
    "            # Computes and stores the pressure for the current configuration\n",
    "            \n",
    "            continue;     # This was simply used to get rid of an \"if\" statement.\n",
    "        \n",
    "        # This to bring the old configuration back if the move is rejected.\n",
    "        a[0][Select] = tempx;\n",
    "        a[1][Select] = tempy;\n",
    "        a[2][Select] = tempz;\n",
    "          \n",
    "    return (relaxation, all_en, all_p, a);\n",
    " \n",
    "# putting the new function in the new MC function\n",
    "\n",
    "def Monte_Carlo_NVT_write(Npart, T, sigma, epsi, Rcut, Lx, Ly, Lz, step_size, run, run1, filename):\n",
    "    '''\n",
    "    Has two parts: create configuration and equilibrates, and then samples.\n",
    "    \n",
    "    Same as the previous MC_NVT function but writes trajectories of the accepted steps in a file.\n",
    "    \n",
    "    param:\n",
    "    T: system temperature\n",
    "    Npart: No of atoms\n",
    "    sigma and epsi are sigma and epsilon resp.\n",
    "    Rcut: cutoff\n",
    "    Lx, Ly, Lz: box dimensions\n",
    "    step_size: adjusted according to maximum in Lx, Ly and Lz, for stepsize of x the maximum disp is x*3**0.5.\n",
    "    \n",
    "    run: Number of cycles for removing overlaps  and equilibration.(put this a larger value say 500000)\n",
    "    run1: Sampling runs (keep this less but sufficient enough say 50000 as this takes a lot of time) \n",
    "    filename: filename of the file to store data\n",
    "    (Note: dont put .xyz after file name, the write function does that implicitly)\n",
    "    \n",
    "    Output:\n",
    "    Avg_P: Average pressure\n",
    "    Avg_E: Average energy\n",
    "    Pressure_arr: Pressure array of all frames.\n",
    "    Energy_arr: the energy array of all frames (accepted or rejected)\n",
    "    Relaxation_arr: the energy array of the accepted frames \n",
    "    '''\n",
    "    \n",
    "    coord_arr = startConf(T, Npart, sigma, epsi, Rcut, Lx, Ly, Lz, step_size, run);\n",
    "    \n",
    "    # Now do sampling on the equilibriated system and write it as well\n",
    "    \n",
    "    Data  = translate_Sample_write(T, Npart, sigma, epsi, coord_arr, Rcut, Lx, Ly, Lz, step_size, run1, filename);\n",
    "    \n",
    "    Pressure_arr = np.array(Data[2]);\n",
    "    Energy_arr = np.array(Data[1]);\n",
    "    Relaxation_arr = np.array(Data[0]);\n",
    "    \n",
    "    Avg_P = averages(Pressure_arr);\n",
    "    Avg_E = averages(Energy_arr);\n",
    "    \n",
    "    return Avg_P, Avg_E,Pressure_arr, Energy_arr, Relaxation_arr;\n",
    "        "
   ]
  },
  {
   "cell_type": "markdown",
   "metadata": {},
   "source": [
    "#### Case 1:"
   ]
  },
  {
   "cell_type": "code",
   "execution_count": 105,
   "metadata": {},
   "outputs": [],
   "source": [
    "# T = 100 density  = 358.4 \n",
    "a1 = Monte_Carlo_NVT_write(362, 200, 3.73, 148*Kb/eps, 14, 30, 30, 30, 0.5 , 450000, 50000,'ch4_358.4_100');"
   ]
  },
  {
   "cell_type": "code",
   "execution_count": 106,
   "metadata": {},
   "outputs": [
    {
     "name": "stdout",
     "output_type": "stream",
     "text": [
      " The pressure in atm= 432.43625554739265\n"
     ]
    }
   ],
   "source": [
    "print(\" The pressure in atm=\", a1[0]*1.013/100000);"
   ]
  },
  {
   "cell_type": "code",
   "execution_count": 107,
   "metadata": {},
   "outputs": [],
   "source": [
    "# T = 200 density  = 358.4 \n",
    "a2 = Monte_Carlo_NVT_write(362, 200, 3.73, 148*Kb/eps, 14, 30, 30, 30, 0.5 , 450000, 50000,'ch4_358.4_200');"
   ]
  },
  {
   "cell_type": "code",
   "execution_count": 108,
   "metadata": {},
   "outputs": [
    {
     "name": "stdout",
     "output_type": "stream",
     "text": [
      " the pressure in atm 432.7799543038423\n"
     ]
    }
   ],
   "source": [
    "print(\" the pressure in atm\", a2[0]*1.013/100000);"
   ]
  },
  {
   "cell_type": "code",
   "execution_count": 109,
   "metadata": {},
   "outputs": [],
   "source": [
    "# T = 300 density  = 358.4 \n",
    "a3 = Monte_Carlo_NVT_write(362, 300, 3.73, 148*Kb/eps, 14, 30, 30, 30, 0.5 , 450000, 50000,'ch4_358.4_300');"
   ]
  },
  {
   "cell_type": "code",
   "execution_count": 110,
   "metadata": {},
   "outputs": [
    {
     "name": "stdout",
     "output_type": "stream",
     "text": [
      " the pressure in atm 1242.2506978713711\n"
     ]
    }
   ],
   "source": [
    "print(\" the pressure in atm\", a3[0]*1.013/100000);"
   ]
  },
  {
   "cell_type": "code",
   "execution_count": 111,
   "metadata": {},
   "outputs": [],
   "source": [
    "# T = 400 density  = 358.4 \n",
    "a4 = Monte_Carlo_NVT_write(362, 400, 3.73, 148*Kb/eps, 14, 30, 30, 30, 0.5 , 450000, 50000,'ch4_358.4_400');"
   ]
  },
  {
   "cell_type": "code",
   "execution_count": 112,
   "metadata": {},
   "outputs": [
    {
     "name": "stdout",
     "output_type": "stream",
     "text": [
      " the pressure in atm 1866.2364321433645\n"
     ]
    }
   ],
   "source": [
    "print(\" the pressure in atm\", a4[0]*1.013/100000);"
   ]
  },
  {
   "cell_type": "code",
   "execution_count": 126,
   "metadata": {},
   "outputs": [
    {
     "data": {
      "text/plain": [
       "<matplotlib.legend.Legend at 0x1c8f0590>"
      ]
     },
     "execution_count": 126,
     "metadata": {},
     "output_type": "execute_result"
    },
    {
     "data": {
      "image/png": "[encoded data removed]",
      "text/plain": [
       "<Figure size 504x504 with 1 Axes>"
      ]
     },
     "metadata": {},
     "output_type": "display_data"
    }
   ],
   "source": [
    "plt.figure(4, figsize = (7, 7))\n",
    "plt.plot([ 200, 300, 400],[432, 1242, 1950 ], marker = \"*\", ms = 10, linestyle = '', label =\"MC values\"); # update these values to get the fresh plot.\n",
    "plt.plot([ 200, 300, 400],[427, 1184, 1875 ], label =\" NIST values\");\n",
    "plt.ylabel(\" Pressure in Bars\");\n",
    "plt.xlabel(\"temperature in Kelvin\");\n",
    "plt.title (\"P-T curve at 358.4 $Kg/m^3$ \")\n",
    "plt.legend()"
   ]
  },
  {
   "cell_type": "markdown",
   "metadata": {},
   "source": [
    "### Case 2: \n",
    "\n",
    "Note: the pressure will be printed below the cells. You need to manually put the three values to update the plot."
   ]
  },
  {
   "cell_type": "code",
   "execution_count": 38,
   "metadata": {},
   "outputs": [],
   "source": [
    "def startConf(T, Npart, sigma, epsi, Rcut, Lx, Ly, Lz, step_size, run):\n",
    "    '''\n",
    "    Same function as the previous one. \n",
    "    Only difference, the minimum distance between particles is increased to 10 angstrom instead of 3.\n",
    "    '''\n",
    "    \n",
    "    traj_coord = [[],[],[]]; # to store the  particle trajectories\n",
    "    \n",
    "    part_count = 1;\n",
    "\n",
    "    #~~~~~~~~~~~~~~~~~~~Create the first Particle~~~~~~~~~~~~~~~~~~~~~~~~~~~~ \n",
    "    seedx = float(Lx/2*ran_num_gen(1));  # ran_num_gen creates a value between -1 to 1 and I scale it to -L/2 to +L/2\n",
    "    seedy = float(Ly/2*ran_num_gen(1));  # to create a new particle\n",
    "    seedz = float(Lz/2*ran_num_gen(1));   \n",
    "        \n",
    "    traj_coord[0].append(seedx);\n",
    "    traj_coord[1].append(seedy);\n",
    "    traj_coord[2].append(seedz);\n",
    "    #~~~~~~~~~~~~~~~~~~~~~~~~~~~~~~~~~~~~~~~~~~~~~~~~~~~~~~~~~~~~~~~~~~~~~~~~\n",
    "    \n",
    "    while (part_count <= Npart-1): # -1 taken as we create the first particle outside the loop \n",
    "            \n",
    "        x1 = float(Lx/2*ran_num_gen(1));  # ran_num_gen creates a value between -1 to 1 and I scale it to -L/2 to +L/2\n",
    "        y1 = float(Ly/2*ran_num_gen(1));  # to create a new particle\n",
    "        z1 = float(Lz/2*ran_num_gen(1));\n",
    "            \n",
    "            \n",
    "        flag =0;\n",
    "        for i in range(0,part_count):  \n",
    "                \n",
    "            x = traj_coord[0][i-1];\n",
    "            y = traj_coord[1][i-1];\n",
    "            z = traj_coord[2][i-1];\n",
    "            \n",
    "            d = s.sqrt((x-x1)**2 + (y-y1)**2 + (z-z1)**2);\n",
    "            \n",
    "            if (d <= 15): # to maintain a distance of Atleast 15 angtrom \n",
    "                flag = 1;    \n",
    "            \n",
    "        if (flag == 0):\n",
    "            # Store the trajectories\n",
    "            traj_coord[0].append(x1);\n",
    "            traj_coord[1].append(y1);\n",
    "            traj_coord[2].append(z1);\n",
    "            part_count += 1; \n",
    "    \n",
    "    traj_coord = np.array(traj_coord);\n",
    "    \n",
    "    # Relax the Structure a bit to remove any coinsiding atoms.\n",
    "    a = translate_EQ(T, Npart, sigma, epsi, traj_coord, Rcut, Lx, Ly, Lz, step_size,run); \n",
    "    return a;"
   ]
  },
  {
   "cell_type": "code",
   "execution_count": 39,
   "metadata": {},
   "outputs": [],
   "source": [
    "# T = 100 density  = 1.6 N = 362\n",
    "b1 = Monte_Carlo_NVT_write(362, 100, 3.73, 148*Kb/eps, 50, 182, 182, 182, 2 , 500000,10 ,'ch4_1.6_100');"
   ]
  },
  {
   "cell_type": "code",
   "execution_count": 40,
   "metadata": {},
   "outputs": [
    {
     "name": "stdout",
     "output_type": "stream",
     "text": [
      "the pressure in atms is 0.8395700064612566\n"
     ]
    }
   ],
   "source": [
    "print(\"the pressure in atms is\", b1[0]*1.013/100000);"
   ]
  },
  {
   "cell_type": "code",
   "execution_count": 69,
   "metadata": {},
   "outputs": [],
   "source": [
    "# T = 200 density  = 1.6 N = 362\n",
    "b2 = Monte_Carlo_NVT_write(362, 200, 3.73, 148*Kb/eps, 50, 182, 182, 182, 2 , 500000,1000 ,'ch4_1.6_200');"
   ]
  },
  {
   "cell_type": "code",
   "execution_count": 70,
   "metadata": {},
   "outputs": [
    {
     "name": "stdout",
     "output_type": "stream",
     "text": [
      "the pressure in atms is 2.0214281998354844\n"
     ]
    }
   ],
   "source": [
    "print(\"the pressure in atms is\", b2[0]*1.013/100000);"
   ]
  },
  {
   "cell_type": "code",
   "execution_count": 71,
   "metadata": {},
   "outputs": [],
   "source": [
    "# T = 300 density  = 1.6 N = 362\n",
    "b3 = Monte_Carlo_NVT_write(362, 300, 3.73, 148*Kb/eps, 50, 182, 182, 182, 2 , 500000,1000 ,'ch4_1.6_300');"
   ]
  },
  {
   "cell_type": "code",
   "execution_count": 72,
   "metadata": {},
   "outputs": [
    {
     "name": "stdout",
     "output_type": "stream",
     "text": [
      "the pressure in atms is 2.532795356435806\n"
     ]
    }
   ],
   "source": [
    "print(\"the pressure in atms is\", b3[0]*1.013/100000);"
   ]
  },
  {
   "cell_type": "code",
   "execution_count": 73,
   "metadata": {},
   "outputs": [],
   "source": [
    "# T = 400 density  = 1.6 N = 362\n",
    "b4 = Monte_Carlo_NVT_write(362, 400, 3.73, 148*Kb/eps, 50, 182, 182, 182, 2 , 500000,1000 ,'ch4_1.6_400');"
   ]
  },
  {
   "cell_type": "code",
   "execution_count": 74,
   "metadata": {},
   "outputs": [
    {
     "name": "stdout",
     "output_type": "stream",
     "text": [
      "the pressure in atms is 3.348542835888422\n"
     ]
    }
   ],
   "source": [
    "print(\"the pressure in atms is\", b4[0]*1.013/100000);"
   ]
  },
  {
   "cell_type": "code",
   "execution_count": 121,
   "metadata": {},
   "outputs": [
    {
     "data": {
      "text/plain": [
       "<matplotlib.legend.Legend at 0x78909d0>"
      ]
     },
     "execution_count": 121,
     "metadata": {},
     "output_type": "execute_result"
    },
    {
     "data": {
      "image/png": "[encoded data removed]",
      "text/plain": [
       "<Figure size 504x504 with 1 Axes>"
      ]
     },
     "metadata": {},
     "output_type": "display_data"
    }
   ],
   "source": [
    "plt.figure(4, figsize = (7, 7))\n",
    "plt.plot([ 200, 300, 400],[1.67,2.53, 3.45], marker = \"*\", ms = 10, linestyle = '', label =\"MC values\"); # update these values to get the fresh plot.\n",
    "plt.plot([ 200, 300, 400],[1.62, 2.44, 3.27], label =\" NIST values\");\n",
    "plt.ylabel(\" Pressure in Bars\");\n",
    "plt.xlabel(\"temperature in Kelvin\");\n",
    "plt.title (\"P-T curve at 1.6 $Kg/m^3$ \")\n",
    "plt.legend()"
   ]
  },
  {
   "cell_type": "markdown",
   "metadata": {},
   "source": [
    "#### Question Number 4.1\n",
    "\n",
    "RDF"
   ]
  },
  {
   "cell_type": "code",
   "execution_count": 144,
   "metadata": {},
   "outputs": [
    {
     "name": "stdout",
     "output_type": "stream",
     "text": [
      "Reach end of 'ch4_358.4_100.xyz'\n",
      "Reach end of 'ch4_358.4_200.xyz'\n",
      "Reach end of 'ch4_358.4_300.xyz'\n",
      "Reach end of 'ch4_358.4_400.xyz'\n"
     ]
    }
   ],
   "source": [
    "count  = 0;\n",
    "xyza = read_xyz_trj(\"ch4_358.4_100.xyz\") \n",
    "#number of bins to use for rdf\n",
    "    \n",
    "nbins = 149\n",
    "gr0 = np.zeros(nbins)\n",
    "# box lenghts as a vector\n",
    "L = np.array([30,30,30])\n",
    "# limits to calculate the rdf\n",
    "rdf_range = (0.10, 15.0)\n",
    "# loop through frames\n",
    "for key in xyza.keys():\n",
    "    r, temp = rdf(xyza[key], L, nbins, rdf_range)\n",
    "    gr0 += temp\n",
    "    count +=1\n",
    "        \n",
    "gr0 /= len(xyza.keys());    \n",
    "    \n",
    "        \n",
    "count  = 0;\n",
    "xyzb = read_xyz_trj(\"ch4_358.4_200.xyz\") \n",
    "#number of bins to use for rdf\n",
    "    \n",
    "nbins = 149\n",
    "gr = np.zeros(nbins)\n",
    "# box lenghts as a vector\n",
    "L = np.array([30,30,30])\n",
    "# limits to calculate the rdf\n",
    "rdf_range = (0.10, 15.0)\n",
    "# loop through frames\n",
    "for key in xyzb.keys():\n",
    "    r, temp = rdf(xyzb[key], L, nbins, rdf_range)\n",
    "    gr += temp\n",
    "    count +=1\n",
    "        \n",
    "gr /= len(xyzb.keys());    \n",
    "        \n",
    "count  = 0;\n",
    "xyzc = read_xyz_trj(\"ch4_358.4_300.xyz\") \n",
    "#number of bins to use for rdf\n",
    "    \n",
    "nbins = 149\n",
    "gr1 = np.zeros(nbins)\n",
    "# box lenghts as a vector\n",
    "L = np.array([30,30,30])\n",
    "# limits to calculate the rdf\n",
    "rdf_range = (0.10, 15.0)\n",
    "# loop through frames\n",
    "for key in xyzc.keys():\n",
    "    r, temp = rdf(xyzc[key], L, nbins, rdf_range)\n",
    "    gr1 += temp\n",
    "    count +=1\n",
    "        \n",
    "gr1 /= len(xyzc.keys());    \n",
    "\n",
    "    \n",
    "    \n",
    "count  = 0;\n",
    "xyzd = read_xyz_trj(\"ch4_358.4_400.xyz\") \n",
    "#number of bins to use for rdf\n",
    "    \n",
    "nbins = 149\n",
    "gr2 = np.zeros(nbins)\n",
    "# box lenghts as a vector\n",
    "L = np.array([30,30,30])\n",
    "# limits to calculate the rdf\n",
    "rdf_range = (0.10, 15.0)\n",
    "# loop through frames\n",
    "for key in xyzd.keys():\n",
    "    r, temp = rdf(xyzd[key], L, nbins, rdf_range)\n",
    "    gr2 += temp\n",
    "    count +=1\n",
    "        \n",
    "gr2 /= len(xyzd.keys());   \n",
    "        \n",
    "        "
   ]
  },
  {
   "cell_type": "code",
   "execution_count": 146,
   "metadata": {},
   "outputs": [
    {
     "data": {
      "image/png": "[encoded data removed]",
      "text/plain": [
       "<Figure size 1080x504 with 1 Axes>"
      ]
     },
     "metadata": {},
     "output_type": "display_data"
    }
   ],
   "source": [
    "plt.figure(figsize =(15,7));\n",
    "plt.plot(np.linspace(0.1,15,149),gr0, label  = \"T = 100\");\n",
    "plt.plot(np.linspace(0.1,15,149), gr, label  = \"T = 200\");\n",
    "plt.plot(np.linspace(0.1,15,149),gr1, label  = \"T = 300\");\n",
    "plt.plot(np.linspace(0.1,15,149),gr2, label  = \"T = 400\");\n",
    "\n",
    "plt.xlabel(\"radial distance in angstroms\")\n",
    "plt.ylabel(\" Number density of the neighbouring atoms\");\n",
    "plt.title(\"Radial Distribution at density 358.4\");\n",
    "plt.legend();"
   ]
  },
  {
   "cell_type": "code",
   "execution_count": 142,
   "metadata": {},
   "outputs": [
    {
     "name": "stdout",
     "output_type": "stream",
     "text": [
      "Reach end of 'ch4_1.6_100.xyz'\n",
      "Reach end of 'ch4_1.6_200.xyz'\n",
      "Reach end of 'ch4_1.6_300.xyz'\n",
      "Reach end of 'ch4_1.6_400.xyz'\n"
     ]
    }
   ],
   "source": [
    "\n",
    "count  = 0;\n",
    "xyz1 = read_xyz_trj(\"ch4_1.6_100.xyz\") \n",
    "#number of bins to use for rdf\n",
    "    \n",
    "nbins = 80\n",
    "gr3 = np.zeros(nbins)\n",
    "# box lenghts as a vector\n",
    "L = np.array([182, 182, 182])\n",
    "# limits to calculate the rdf\n",
    "rdf_range = (0, 80.0)\n",
    "# loop through frames\n",
    "for key in xyz1.keys():\n",
    "    r, temp = rdf(xyz1[key], L, nbins, rdf_range)\n",
    "    gr3 += temp\n",
    "    count +=1\n",
    "gr3 /= len(xyz1.keys());\n",
    "        \n",
    "count  = 0;\n",
    "xyz2 = read_xyz_trj(\"ch4_1.6_200.xyz\") \n",
    "#number of bins to use for rdf\n",
    "    \n",
    "nbins = 80\n",
    "gr4 = np.zeros(nbins)\n",
    "# box lenghts as a vector\n",
    "L = np.array([182, 182, 182])\n",
    "# limits to calculate the rdf\n",
    "rdf_range = (0, 80.0)\n",
    "# loop through frames\n",
    "for key in xyz2.keys():\n",
    "    r, temp = rdf(xyz2[key], L, nbins, rdf_range)\n",
    "    gr4 += temp\n",
    "    count +=1\n",
    "gr4 /= len(xyz2.keys());\n",
    "        \n",
    "count  = 0;\n",
    "xyz3 = read_xyz_trj(\"ch4_1.6_300.xyz\") \n",
    "#number of bins to use for rdf\n",
    "    \n",
    "nbins = 80\n",
    "gr5 = np.zeros(nbins)\n",
    "# box lenghts as a vector\n",
    "L = np.array([182, 182, 182])\n",
    "# limits to calculate the rdf\n",
    "rdf_range = (0, 80.0)\n",
    "# loop through frames\n",
    "for key in xyz3.keys():\n",
    "    r, temp = rdf(xyz3[key], L, nbins, rdf_range)\n",
    "    gr5 += temp\n",
    "    count +=1\n",
    "gr5 /= len(xyz3.keys());\n",
    "    \n",
    "    \n",
    "count  = 0;\n",
    "xyz4 = read_xyz_trj(\"ch4_1.6_400.xyz\") \n",
    "#number of bins to use for rdf\n",
    "    \n",
    "nbins = 80\n",
    "gr6 = np.zeros(nbins)\n",
    "# box lenghts as a vector\n",
    "L = np.array([182, 182, 182])\n",
    "# limits to calculate the rdf\n",
    "rdf_range = (0, 80.0)\n",
    "# loop through frames\n",
    "for key in xyz4.keys():\n",
    "    r, temp = rdf(xyz4[key], L, nbins, rdf_range)\n",
    "    gr6 += temp\n",
    "    count +=1    \n",
    "gr6 /= len(xyz4.keys())"
   ]
  },
  {
   "cell_type": "code",
   "execution_count": 143,
   "metadata": {},
   "outputs": [
    {
     "data": {
      "image/png": "[encoded data removed]",
      "text/plain": [
       "<Figure size 1080x504 with 1 Axes>"
      ]
     },
     "metadata": {},
     "output_type": "display_data"
    }
   ],
   "source": [
    "plt.figure(figsize =(15,7));\n",
    "plt.plot(np.linspace(0,80,80),gr3, label  = \"T = 100\");\n",
    "plt.plot(np.linspace(0,80,80),gr4, label  = \"T = 200\");\n",
    "plt.plot(np.linspace(0,80,80),gr5, label  = \"T = 300\");\n",
    "plt.plot(np.linspace(0,80,80),gr6, label  = \"T = 400\");\n",
    "\n",
    "plt.xlabel(\"radial distance in angstroms\")\n",
    "plt.ylabel(\" Number density of the neighbouring atoms\");\n",
    "plt.title(\"Radial Distribution at 1.6 Kg/m3 \");\n",
    "plt.legend();"
   ]
  },
  {
   "cell_type": "code",
   "execution_count": null,
   "metadata": {},
   "outputs": [],
   "source": []
  }
 ],
 "metadata": {
  "kernelspec": {
   "display_name": "Python 3",
   "language": "python",
   "name": "python3"
  },
  "language_info": {
   "codemirror_mode": {
    "name": "ipython",
    "version": 3
   },
   "file_extension": ".py",
   "mimetype": "text/x-python",
   "name": "python",
   "nbconvert_exporter": "python",
   "pygments_lexer": "ipython3",
   "version": "3.6.5"
  }
 },
 "nbformat": 4,
 "nbformat_minor": 2
}
